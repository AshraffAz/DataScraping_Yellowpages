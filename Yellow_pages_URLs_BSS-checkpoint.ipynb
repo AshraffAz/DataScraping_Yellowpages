{
 "cells": [
  {
   "cell_type": "code",
   "execution_count": null,
   "id": "6aadae69",
   "metadata": {},
   "outputs": [],
   "source": [
    "import requests\n",
    "from bs4 import BeautifulSoup\n",
    "\n",
    "# Define the URL of the page you want to scrape\n",
    "url = 'https://www.yellowpages.my/akasep'\n",
    "\n",
    "# Send a get request to the URL\n",
    "response = requests.get(url)\n",
    "\n",
    "# Check if the request was successful\n",
    "if response.ok:\n",
    "    # Create a BeautifulSoup object and specify the parser\n",
    "    soup = BeautifulSoup(response.text, 'html.parser')\n",
    "    \n",
    "    # Use the CSS selectors to extract the telephone and email\n",
    "    telephone_selector = 'body > app-root > div > app-root > app-post-view > div > div > div > div.right.ng-tns-c54-0 > div.map.ng-tns-c54-0.ng-star-inserted > div > div > div > div > div > div > a:nth-child(1)'\n",
    "    email_selector = 'body > app-root > div > app-root > app-post-view > div > div > div > div.right.ng-tns-c54-0 > div.map.ng-tns-c54-0.ng-star-inserted > div > div > div > div > div > div > a:nth-child(2)'\n",
    "    \n",
    "    # Find elements using the selectors\n",
    "    telephone = soup.select_one(telephone_selector)\n",
    "    email = soup.select_one(email_selector)\n",
    "    \n",
    "    # Extract the text if elements are found\n",
    "    telephone_number = telephone.text.strip() if telephone else 'Not found'\n",
    "    email_address = email.text.strip() if email else 'Not found'\n",
    "    \n",
    "    # Print the extracted information\n",
    "    print(f'Telephone Number: {telephone_number}')\n",
    "    print(f'Email: {email_address}')\n",
    "else:\n",
    "    print('Failed to retrieve the webpage')\n"
   ]
  }
 ],
 "metadata": {
  "kernelspec": {
   "display_name": "Python 3 (ipykernel)",
   "language": "python",
   "name": "python3"
  },
  "language_info": {
   "codemirror_mode": {
    "name": "ipython",
    "version": 3
   },
   "file_extension": ".py",
   "mimetype": "text/x-python",
   "name": "python",
   "nbconvert_exporter": "python",
   "pygments_lexer": "ipython3",
   "version": "3.11.5"
  }
 },
 "nbformat": 4,
 "nbformat_minor": 5
}
